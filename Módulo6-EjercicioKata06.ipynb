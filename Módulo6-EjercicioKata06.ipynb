{
 "cells": [
  {
   "cell_type": "code",
   "execution_count": 4,
   "metadata": {},
   "outputs": [
    {
     "name": "stdout",
     "output_type": "stream",
     "text": [
      "['Mercury', 'Venus', 'Earth', 'Mars', 'Jupiter', 'Saturn', 'Uranus', 'Neptune']\n",
      "The last planet is Pluto\n"
     ]
    }
   ],
   "source": [
    "# Creamos la lista planets y la mostramos\n",
    "planets = ['Mercury', 'Venus', 'Earth', 'Mars', 'Jupiter', 'Saturn', 'Uranus', 'Neptune']\n",
    "print(planets)\n",
    "# Agregamos a plutón y mostramos el último elemento\n",
    "planets.append('Pluto')\n",
    "number_of_planets = len(planets)\n",
    "print('The last planet is', planets[-1])"
   ]
  },
  {
   "cell_type": "code",
   "execution_count": 15,
   "metadata": {},
   "outputs": [
    {
     "name": "stdout",
     "output_type": "stream",
     "text": [
      "Planetas mas cercanos al sol:\n",
      "['Mercury', 'Venus', 'Earth']\n",
      "Planetas mas lejos al sol:\n",
      "['Saturn', 'Neptune', 'Mars', 'Jupiter']\n"
     ]
    }
   ],
   "source": [
    "# Lista de planetas\n",
    "planets = ['Mercury', 'Venus', 'Earth', 'Mars', 'Jupiter', 'Saturn', 'Neptune']\n",
    "# Solicitamos el nombre de un planeta *Pista:  input()*\n",
    "planetaBuscar = input(\"Escriba el nombre del planeta a buscar con la primera letra en Mayuscula\")\n",
    "# Busca el planeta en la lista\n",
    "busqueda = planets.index(planetaBuscar)\n",
    "# Muestra los planetas más cercanos al sol\n",
    "print('Planetas mas cercanos al sol:')\n",
    "planetsCercanos = planets[0:3]\n",
    "print(planetsCercanos)\n",
    "# Muestra los planetas más lejanos al sol\n",
    "print('Planetas mas lejos al sol:')\n",
    "planetsLejanos = planets[3:8]\n",
    "print(planetsLejanos) "
   ]
  }
 ],
 "metadata": {
  "interpreter": {
   "hash": "916dbcbb3f70747c44a77c7bcd40155683ae19c65e1c03b4aa3499c5328201f1"
  },
  "kernelspec": {
   "display_name": "Python 3.8.10 64-bit",
   "language": "python",
   "name": "python3"
  },
  "language_info": {
   "codemirror_mode": {
    "name": "ipython",
    "version": 3
   },
   "file_extension": ".py",
   "mimetype": "text/x-python",
   "name": "python",
   "nbconvert_exporter": "python",
   "pygments_lexer": "ipython3",
   "version": "3.8.10"
  },
  "orig_nbformat": 4
 },
 "nbformat": 4,
 "nbformat_minor": 2
}
