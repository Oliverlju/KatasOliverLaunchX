{
 "cells": [
  {
   "cell_type": "markdown",
   "metadata": {},
   "source": [
    "# Ejercicio 1: Transformar cadenas"
   ]
  },
  {
   "cell_type": "code",
   "execution_count": 11,
   "metadata": {},
   "outputs": [
    {
     "name": "stdout",
     "output_type": "stream",
     "text": [
      "The Moon is Earth's only satellite. \n",
      "There are several interesting facts about the Moon and how it affects life here on Earth.\n",
      "This yearly drift is not significant enough to cause immediate effects on Earth. \n",
      "The highest daylight temperature of the Moon is 127 C.\n",
      "Interesting facts about the Moon. \n",
      "The Moon is Earth's only satellite. \n",
      "There are several interesting facts about the Moon and how it affects life here on Earth.\n",
      "This yearly drift is not significant enough to cause immediate effects on Earth. \n",
      "The highest daylight temperature of the Moon is 127 Celsius.\n"
     ]
    }
   ],
   "source": [
    "texto = \"\"\"Interesting facts about the Moon. \n",
    "The Moon is Earth's only satellite. \n",
    "There are several interesting facts about the Moon and how it affects life here on Earth.\n",
    "On average, the Moon moves 4cm away from the Earth every year. \n",
    "This yearly drift is not significant enough to cause immediate effects on Earth. \n",
    "The highest daylight temperature of the Moon is 127 C.\"\"\"\n",
    "partes =texto.split('\\n')\n",
    "partes\n",
    "# average, temperature y distance\n",
    "busqueda = [\"everage\", \"temperature\", \"distance\"]\n",
    "\n",
    "for oracion in partes:\n",
    "    for busqueda in busqueda:\n",
    "        if busqueda in oracion:\n",
    "            print (oracion)\n",
    "            break\n",
    "        \n",
    "for oracion in partes:\n",
    "    for busqueda in busqueda:\n",
    "        if busqueda in oracion:\n",
    "            print(oracion.replace(' C', ' Celsius'))\n",
    "            break\n",
    "\n",
    "\n"
   ]
  },
  {
   "cell_type": "markdown",
   "metadata": {},
   "source": [
    "# Ejercicio 2: Formateando Cadenas"
   ]
  },
  {
   "cell_type": "code",
   "execution_count": 12,
   "metadata": {},
   "outputs": [
    {
     "name": "stdout",
     "output_type": "stream",
     "text": [
      "Datos de la gravedad en la Earth y la Moon\n",
      "-----------------\n",
      "El planeta tiene el nombre de: Earth\n",
      "Gravedad de: Earth es de: 1.6199999999999999\n",
      "\n"
     ]
    }
   ],
   "source": [
    "# Datos con los que vas a trabajar\n",
    "name = \"Moon\"\n",
    "gravity = 0.00162 # in kms\n",
    "planet = \"Earth\"\n",
    "lineas = \"-----------------\"\n",
    "conversion = gravity*1000\n",
    "\n",
    "# texto trata sobre la gravedad en la Tierra y la Luna, \n",
    "# úsalo para crear un título significativo.\n",
    "\n",
    "#Creacion del titulo.\n",
    "titulo = f'Datos de la gravedad en la {planet} y la {name}'\n",
    "\n",
    "# Creacion de la plantilla.\n",
    "informacion = f\"\"\"El planeta tiene el nombre de: {planet}\n",
    "Gravedad de: {planet} es de: {conversion}\"\"\"\n",
    "\n",
    "#Union de las cadenas\n",
    "echos = f\"\"\"{titulo}\n",
    "{lineas}\n",
    "{informacion}\n",
    "\"\"\"\n",
    "print(echos)"
   ]
  },
  {
   "cell_type": "code",
   "execution_count": 16,
   "metadata": {},
   "outputs": [
    {
     "name": "stdout",
     "output_type": "stream",
     "text": [
      "Datos de la gravedad en la Earth y la Moon\n",
      "-----------------\n",
      "El planeta tiene el nombre de: Earth\n",
      "Gravedad de: Earth es de: 1.6199999999999999\n",
      "\n",
      "El nombre del planeta es: Ganímedes\n",
      "Datos de la gravedad en este planeta es: 1.4300000000000002\n",
      "\n"
     ]
    }
   ],
   "source": [
    "# Luna\n",
    "planeta = 'Marte '\n",
    "gravedad  = 0.00143*1000\n",
    "nombre = 'Ganímedes'\n",
    "#Plantilla:\n",
    "print(echos)\n",
    "\n",
    "#Nueva Plantilla\n",
    "nuevaPlantilla =\"\"\"El nombre del planeta es: {nombre}\n",
    "Datos de la gravedad en este planeta es: {gravedad}\n",
    "\"\"\"\n",
    "print(nuevaPlantilla.format(nombre=nombre, planeta=planeta, gravedad=gravedad))\n"
   ]
  }
 ],
 "metadata": {
  "interpreter": {
   "hash": "916dbcbb3f70747c44a77c7bcd40155683ae19c65e1c03b4aa3499c5328201f1"
  },
  "kernelspec": {
   "display_name": "Python 3.8.10 64-bit",
   "language": "python",
   "name": "python3"
  },
  "language_info": {
   "codemirror_mode": {
    "name": "ipython",
    "version": 3
   },
   "file_extension": ".py",
   "mimetype": "text/x-python",
   "name": "python",
   "nbconvert_exporter": "python",
   "pygments_lexer": "ipython3",
   "version": "3.8.10"
  },
  "orig_nbformat": 4
 },
 "nbformat": 4,
 "nbformat_minor": 2
}
