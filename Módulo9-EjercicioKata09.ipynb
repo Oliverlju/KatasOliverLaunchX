{
 "cells": [
  {
   "cell_type": "markdown",
   "metadata": {},
   "source": [
    "#### Ejercicio 1: Trabajar con argumentos en funcion"
   ]
  },
  {
   "cell_type": "code",
   "execution_count": null,
   "metadata": {},
   "outputs": [],
   "source": [
    "def tanques(Tanque1, Tanque2, Tanque3):\n",
    "    return f\"\"\"Fuel Report:\n",
    "    Tanque1: {Tanque1}%\n",
    "    Tanque2: {Tanque2}%\n",
    "    Tanque3: {Tanque3}%\n",
    "    \"\"\"\n",
    "print(tanques(90, 60, 55))\n",
    "def tanques(Datos):\n",
    "    Total = sum(Datos)/len(Datos)\n",
    "    return Total\n",
    "tanques([90, 60, 55]) "
   ]
  },
  {
   "cell_type": "markdown",
   "metadata": {},
   "source": [
    "#### Ejercicio 2: Trabajo con argumentos de palabra clave"
   ]
  },
  {
   "cell_type": "code",
   "execution_count": null,
   "metadata": {},
   "outputs": [],
   "source": [
    "# Función con un informe preciso de la misión. \n",
    "# Considera hora de prelanzamiento, tiempo de vuelo, destino, \n",
    "# tanque externo y tanque interno\n",
    "\n",
    "def reporteMision(HoraPrelanzamiento, TiempoVuelo, Destino, TanqueExter, TanqueInter):\n",
    "    return f\"\"\"\n",
    "    Hora prelanzamiento: {HoraPrelanzamiento}\n",
    "    Tiempo de vuelo: {TiempoVuelo}\n",
    "    Destino: {Destino}\n",
    "    Tanque Externo: {TanqueExter}\n",
    "    Tanque Interno: {TanqueInter}\n",
    "    \"\"\"\n",
    "print(reporteMision(12, 32,\"Saturno\", 4,6))"
   ]
  },
  {
   "cell_type": "code",
   "execution_count": null,
   "metadata": {},
   "outputs": [],
   "source": [
    "# Escribe tu nueva función de reporte considerando lo anterior (minutes, fuelreservoirs)\n",
    "def reporteMision(Destino, *Minutos, **DepositosLlenos):\n",
    "    return f\"\"\"\n",
    "    Destino: {Destino}\n",
    "    Minutos: {sum(Minutos)}\n",
    "    Depositos llenos: {sum(DepositosLlenos.values())}\n",
    "    \"\"\"\n",
    "print(reporteMision(\"Saturno\", 10, 30, 12, TanqueExter=40, TanqueInter = 60))"
   ]
  },
  {
   "cell_type": "code",
   "execution_count": null,
   "metadata": {},
   "outputs": [],
   "source": [
    "# Escribe tu nueva función\n",
    "# Combustible para tanque especifico, actualizar la funcion para cada nombre del tanque\n",
    "def reporteMision(Destino, *Minutos, **DepositosLlenos):\n",
    "    reporteTotal = f\"\"\"\n",
    "    Destino: {Destino}\n",
    "    Minutos: {sum(Minutos)}\n",
    "    Depositos llenos: {sum(DepositosLlenos.values())}\n",
    "    \"\"\"\n",
    "    for Nombre, capacidad in DepositosLlenos.items():\n",
    "        reporteTotal += f\"{Nombre} Tanque {capacidad}\\n\"\n",
    "    return reporteTotal \n",
    "        \n",
    "print(reporteMision(\"Saturno\", 10, 30, 12, TanqueExter=40, TanqueInter = 60))"
   ]
  }
 ],
 "metadata": {
  "language_info": {
   "name": "python"
  },
  "orig_nbformat": 4
 },
 "nbformat": 4,
 "nbformat_minor": 2
}
