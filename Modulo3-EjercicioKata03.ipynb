{
 "cells": [
  {
   "cell_type": "markdown",
   "metadata": {},
   "source": [
    "# Ejercicio 1"
   ]
  },
  {
   "cell_type": "markdown",
   "metadata": {},
   "source": [
    "Advertencia, Velocidad Varia con el sol, Velocidad superior 25 km/s advertencia, \n",
    "Mensaje: El asteriode se acerca y viaja a una velocidad a 49 km/s.\n",
    "Variable que guarde la velocidad del asteroide, expresion de prueba para calcular si se necesita una advertencia, instrucciones si la expresion es true o false."
   ]
  },
  {
   "cell_type": "code",
   "execution_count": 1,
   "metadata": {},
   "outputs": [
    {
     "name": "stdout",
     "output_type": "stream",
     "text": [
      "Advertencia El asteroide se acerca mayor a la de advertencia 25 km/s\n"
     ]
    }
   ],
   "source": [
    "VeloAsteroide = 49\n",
    "VeloAdvertencia = 25\n",
    "if VeloAsteroide > VeloAdvertencia:\n",
    "    print(\"Advertencia el asteroide se acerca a la tierra 25 km/s\")\n",
    "elif VeloAsteroide < VeloAdvertencia:\n",
    "    print(\"La velocidad del asteroide es menor a la velocidad de advertencia 25km/s\")"
   ]
  },
  {
   "cell_type": "markdown",
   "metadata": {},
   "source": [
    "# Ejercicio 2"
   ]
  },
  {
   "cell_type": "markdown",
   "metadata": {},
   "source": [
    "if else elif, rayo de luz cuando entre a una velocidad mayor 20 km/s, variable que indique al asteroide ir a 19 km/s, determinar si se pude ver el rayo."
   ]
  },
  {
   "cell_type": "code",
   "execution_count": 6,
   "metadata": {},
   "outputs": [
    {
     "name": "stdout",
     "output_type": "stream",
     "text": [
      "La velocidad del asteroide es menor a 20 km/s\n"
     ]
    }
   ],
   "source": [
    "VeloAsteroide = 19\n",
    "Adver = 20\n",
    "\n",
    "if VeloAsteroide >= Adver:\n",
    "    print (\"Advertencia se acerca un asteroide\")\n",
    "elif VeloAsteroide >= Adver:\n",
    "    print (\"Se visualizo un rayo\")\n",
    "else:\n",
    "    print (\"La velocidad del asteroide es menor a 20 km/s\")"
   ]
  },
  {
   "cell_type": "markdown",
   "metadata": {},
   "source": [
    "# Ejercicio 3: Uso de operadores and y or\n",
    "\n"
   ]
  },
  {
   "cell_type": "markdown",
   "metadata": {},
   "source": [
    "Asteroides -25m se quemarian, si es mas grande de 25 pero pequena de 1000m llega a la tierra sin causar mucho dano, velocidad mayor a 25km/s adventencia, mayor o igual a 20km/s se vera la luz en la tierra.\n",
    "Uso de if, else y elif, and y or.\n",
    "Variables: Velocidad y tamano del asteroide."
   ]
  },
  {
   "cell_type": "code",
   "execution_count": 3,
   "metadata": {},
   "outputs": [
    {
     "name": "stdout",
     "output_type": "stream",
     "text": [
      "Peligro se acerca un asteroide preligroso\n"
     ]
    }
   ],
   "source": [
    "# Usando and (solo si ambas subexpresiones son verdaderas)\n",
    "# Uso de or (si al menos una subexpresion es verdadera)\n",
    "\n",
    "VeloAsteroide = 50\n",
    "TamaAsteroide = 100\n",
    " \n",
    "if VeloAsteroide > 25 and TamaAsteroide > 25:\n",
    "    if TamaAsteroide > 25 and VeloAsteroide > 25:\n",
    "        print (\"Peligro se acerca un asteroide preligroso\")\n",
    "    else:\n",
    "        print (\"El asteroide que se acerca no es peligroso\")\n",
    "elif VeloAsteroide >= 20 or TamaAsteroide < 25:\n",
    "    print (\"No hay peligro pero se vera una luz en el cielo\")\n",
    "else:\n",
    "    print(\"No hay peligro alguno\")\n"
   ]
  }
 ],
 "metadata": {
  "interpreter": {
   "hash": "31f2aee4e71d21fbe5cf8b01ff0e069b9275f58929596ceb00d14d90e3e16cd6"
  },
  "kernelspec": {
   "display_name": "Python 3.8.10 64-bit",
   "language": "python",
   "name": "python3"
  },
  "language_info": {
   "codemirror_mode": {
    "name": "ipython",
    "version": 3
   },
   "file_extension": ".py",
   "mimetype": "text/x-python",
   "name": "python",
   "nbconvert_exporter": "python",
   "pygments_lexer": "ipython3",
   "version": "3.8.10"
  },
  "orig_nbformat": 4
 },
 "nbformat": 4,
 "nbformat_minor": 2
}
